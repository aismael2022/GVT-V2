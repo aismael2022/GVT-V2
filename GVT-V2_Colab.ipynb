{
  "nbformat": 4,
  "nbformat_minor": 0,
  "metadata": {
    "colab": {
      "provenance": [],
      "authorship_tag": "ABX9TyM4x7H3t3eGTonusVIgUKU4",
      "include_colab_link": true
    },
    "kernelspec": {
      "name": "python3",
      "display_name": "Python 3"
    },
    "language_info": {
      "name": "python"
    }
  },
  "cells": [
    {
      "cell_type": "markdown",
      "metadata": {
        "id": "view-in-github",
        "colab_type": "text"
      },
      "source": [
        "<a href=\"https://colab.research.google.com/github/aismael2022/GVT-V2/blob/main/GVT-V2_Colab.ipynb\" target=\"_parent\"><img src=\"https://colab.research.google.com/assets/colab-badge.svg\" alt=\"Open In Colab\"/></a>"
      ]
    },
    {
      "cell_type": "code",
      "execution_count": null,
      "metadata": {
        "id": "omJOaIY-ZKd3"
      },
      "outputs": [],
      "source": [
        "# Install dependencies\n",
        "!pip install pandas numpy langdetect spacy transformers selenium webdriver-manager\n",
        "!python -m spacy download en_core_web_sm\n",
        "\n",
        "# Download your script\n",
        "!wget https://raw.githubusercontent.com/aismael2022/GVT-V2/main/V4_test.py\n",
        "\n",
        "# Run the script\n",
        "%run V4_test.py"
      ]
    }
  ]
}