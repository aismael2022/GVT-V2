# Install all dependencies
!pip install pandas numpy langdetect spacy transformers selenium webdriver-manager
!python -m spacy download en_core_web_sm

# Set up Chromium for Colab
!apt-get update
!apt install -y chromium-chromedriver
!cp /usr/lib/chromium-browser/chromedriver /usr/bin

# Configure Selenium for Colab
from selenium import webdriver
options = webdriver.ChromeOptions()
options.add_argument('--headless')
options.add_argument('--no-sandbox')
options.add_argument('--disable-dev-shm-usage')
driver = webdriver.Chrome('chromedriver', options=options)

# Download your script
!wget https://raw.githubusercontent.com/aismael2022/GVT-V2/main/V4_test.py

# Patch the script to work in Colab
import re
with open('V4_test.py', 'r') as f:
    content = f.read()

# Modify driver configuration
content = re.sub(
    r"driver = webdriver\.Chrome\(.*?\)",
    "driver = webdriver.Chrome('chromedriver', options=options)",
    content
)

# Save patched version
with open('V4_test_colab.py', 'w') as f:
    f.write(content)

# Run the patched script
%run V4_test_colab.py
